{
 "cells": [
  {
   "cell_type": "code",
   "execution_count": 1,
   "id": "430d9bad-0ba5-4e1a-9eb2-d8ce6b2ab8af",
   "metadata": {},
   "outputs": [],
   "source": [
    "import pandas as pd"
   ]
  },
  {
   "cell_type": "code",
   "execution_count": 2,
   "id": "de33e941-8c7e-4607-b15f-4d05d18557a9",
   "metadata": {},
   "outputs": [],
   "source": [
    "url = \"https://geojango.com/pages/list-of-nba-teams\""
   ]
  },
  {
   "cell_type": "code",
   "execution_count": 7,
   "id": "e08dc996-4f5d-426f-9e58-47b12efd8666",
   "metadata": {},
   "outputs": [],
   "source": [
    "df = pd.read_html(url)[0]\n",
    "df.to_csv(\"team_locations.csv\" , index=False)"
   ]
  }
 ],
 "metadata": {
  "kernelspec": {
   "display_name": "tableau_nba",
   "language": "python",
   "name": "tableau_nba"
  },
  "language_info": {
   "codemirror_mode": {
    "name": "ipython",
    "version": 3
   },
   "file_extension": ".py",
   "mimetype": "text/x-python",
   "name": "python",
   "nbconvert_exporter": "python",
   "pygments_lexer": "ipython3",
   "version": "3.10.4"
  }
 },
 "nbformat": 4,
 "nbformat_minor": 5
}
