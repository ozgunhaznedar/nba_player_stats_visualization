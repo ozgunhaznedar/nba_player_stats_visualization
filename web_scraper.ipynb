{
 "cells": [
  {
   "cell_type": "markdown",
   "id": "ecccae91-acc9-47a0-a9b3-e515b61fbbbe",
   "metadata": {},
   "source": [
    "# Web Scrape NBA player stats from nba.com\n",
    "\n",
    "### The url has a table with dropdown for page count in which \"all\" option should be selected to get the table with all players\n",
    "### I use selenium to select the \"all\" option from dropdown\n",
    "#### To learn more about selecting from dropdown with selenium : https://www.youtube.com/watch?v=YWGyLGuY67g\n",
    "#### To learn more about web scraping : https://www.youtube.com/watch?v=JGQGd-oa0l4&t=57s\n",
    "### I use BeatifulSoup to parse the html \n",
    "\n"
   ]
  },
  {
   "cell_type": "code",
   "execution_count": null,
   "id": "1150e90e-d676-4cfd-b611-4a8047694a19",
   "metadata": {},
   "outputs": [],
   "source": [
    "from selenium import webdriver\n",
    "from selenium.webdriver.support.ui import Select\n",
    "from selenium.webdriver.common.by import By\n",
    "\n",
    "from bs4 import BeautifulSoup\n",
    "\n",
    "import time\n",
    "\n",
    "import pandas as pd"
   ]
  },
  {
   "cell_type": "code",
   "execution_count": null,
   "id": "2b9edbcc-efa2-4533-a66e-8c2e03b4d517",
   "metadata": {},
   "outputs": [],
   "source": [
    "# Run the below line in terminal to fix the error: “chromedriver” cannot be opened because the developer cannot be verified.\n",
    "# xattr -d com.apple.quarantine /Users/ozgunhaznedar/chromedriver/chromedriver \n",
    "\n",
    "driver = webdriver.Chrome(executable_path=\"/Users/ozgunhaznedar/chromedriver/chromedriver\")"
   ]
  },
  {
   "cell_type": "markdown",
   "id": "7a2331e3-7a92-49ba-93ee-ae3402462450",
   "metadata": {},
   "source": [
    "## Scraping the data for fixed url"
   ]
  },
  {
   "cell_type": "code",
   "execution_count": null,
   "id": "0961b51d-1683-48c1-8179-c3dd1ac0a261",
   "metadata": {},
   "outputs": [],
   "source": [
    "url = \"https://www.nba.com/stats/players/traditional/?sort=GP&dir=-1&Season=2021-22&SeasonType=Regular%20Season&PerMode=Totals\""
   ]
  },
  {
   "cell_type": "code",
   "execution_count": null,
   "id": "dc6b2eb6-5314-4ddf-a3a0-91a27d6fa4c0",
   "metadata": {},
   "outputs": [],
   "source": [
    "driver.get(url)"
   ]
  },
  {
   "cell_type": "code",
   "execution_count": null,
   "id": "8db776c8-80a8-4cd1-9c1d-41567c6a17f8",
   "metadata": {},
   "outputs": [],
   "source": [
    "# to select the dropdown element\n",
    "element = driver.find_element(By.CLASS_NAME, \"stats-table-pagination__select\")\n",
    "drp = Select(element)"
   ]
  },
  {
   "cell_type": "code",
   "execution_count": null,
   "id": "c518b49c-5677-4608-92ae-22c941b73227",
   "metadata": {},
   "outputs": [],
   "source": [
    "# to see the dropdown options count\n",
    "len(drp.options) "
   ]
  },
  {
   "cell_type": "code",
   "execution_count": null,
   "id": "66a38b89-1d7e-43b7-ac76-e9f4f99702ec",
   "metadata": {},
   "outputs": [],
   "source": [
    "# to see the options \n",
    "drp_options = list()\n",
    "for option in drp.options:\n",
    "    drp_options.append(option.text)\n",
    "drp_options"
   ]
  },
  {
   "cell_type": "code",
   "execution_count": null,
   "id": "35e8cb7d-559e-4b5d-9842-9fd8e829c01e",
   "metadata": {},
   "outputs": [],
   "source": [
    "# to select the \"All\" option\n",
    "drp.select_by_visible_text(\"All\")"
   ]
  },
  {
   "cell_type": "code",
   "execution_count": null,
   "id": "a055ef82-9bce-4a76-acfe-bc5ff0f3a3d9",
   "metadata": {},
   "outputs": [],
   "source": [
    "# to save the page as html\n",
    "html = driver.page_source\n",
    "with open(\"nba_stats.html\",\"w+\") as f:\n",
    "    f.write(html)"
   ]
  },
  {
   "cell_type": "markdown",
   "id": "97acc6ba-4bde-4da1-bd44-d928d1233026",
   "metadata": {},
   "source": [
    "## Scraping all the seasons and tournements"
   ]
  },
  {
   "cell_type": "code",
   "execution_count": null,
   "id": "78355409-0aba-4adb-b395-f38df6dec1e5",
   "metadata": {},
   "outputs": [],
   "source": [
    "season_types = [\"Regular%20Season\",\"Playoffs\"]"
   ]
  },
  {
   "cell_type": "code",
   "execution_count": null,
   "id": "0c3c6d77-7f00-49a0-85cb-7db7486da618",
   "metadata": {},
   "outputs": [],
   "source": [
    "# to get the list of seasons\n",
    "y1 = [str(item) for item in list(range(1996,2022))]\n",
    "y2 = [str(item)[-2:] for item in list(range(1997,2023))]\n",
    "seasons = [y1[i]+\"-\"+y2[i] for i in range(len(y1))]\n",
    "seasons"
   ]
  },
  {
   "cell_type": "code",
   "execution_count": null,
   "id": "dc937693-cb14-4636-beb7-0bff4280a4fc",
   "metadata": {},
   "outputs": [],
   "source": [
    "# to scrape all the data for all the seasons in playoffs and regular season and save it is html files \n",
    "for season in seasons:\n",
    "    for season_type in season_types:\n",
    "        url = f\"https://www.nba.com/stats/players/traditional/?sort=GP&dir=-1&Season={season}&SeasonType={season_type}&PerMode=Totals\"\n",
    "        print(url)\n",
    "        driver.get(url)\n",
    "        time.sleep(10)\n",
    "        element = driver.find_element(By.CLASS_NAME, \"stats-table-pagination__select\")\n",
    "        drp = Select(element)\n",
    "        drp.select_by_visible_text(\"All\")\n",
    "        html = driver.page_source\n",
    "        with open(f\"\"\"nba_stats_{season}_{season_type.split(\"%\")[0]}.html\"\"\",\"w+\") as f:\n",
    "            f.write(html)\n",
    "        print(\"going to sleep\")\n",
    "        time.sleep(30)"
   ]
  }
 ],
 "metadata": {
  "kernelspec": {
   "display_name": "tableau_nba",
   "language": "python",
   "name": "tableau_nba"
  },
  "language_info": {
   "codemirror_mode": {
    "name": "ipython",
    "version": 3
   },
   "file_extension": ".py",
   "mimetype": "text/x-python",
   "name": "python",
   "nbconvert_exporter": "python",
   "pygments_lexer": "ipython3",
   "version": "3.10.4"
  }
 },
 "nbformat": 4,
 "nbformat_minor": 5
}
